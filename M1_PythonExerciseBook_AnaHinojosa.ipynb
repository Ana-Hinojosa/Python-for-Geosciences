{
 "cells": [
  {
   "cell_type": "markdown",
   "id": "b913efb1-8b71-45d7-87db-627a89a8b715",
   "metadata": {},
   "source": [
    "# Python Exercise Book - Module 1 Assignment\n",
    "\n",
    "The Python-3 Startup Guide was a very helpful guide to use to complete the Python Exercise Book assignment."
   ]
  },
  {
   "cell_type": "markdown",
   "id": "ecd6dab6-d9e6-434e-be69-54fe04ebe352",
   "metadata": {},
   "source": [
    "**Operators Exercise**\n",
    "\n",
    "**1.** Assigns the following values 20, 10, 15 and 5 to variables a, b, c, and d using tuple."
   ]
  },
  {
   "cell_type": "code",
   "execution_count": 131,
   "id": "93633d47-52e9-4a7e-90e7-54916b4aae80",
   "metadata": {},
   "outputs": [],
   "source": [
    "a, b, c, d = 20, 10, 15, 5"
   ]
  },
  {
   "cell_type": "markdown",
   "id": "c735dfff-93d1-40a4-93e7-1520dd596c63",
   "metadata": {},
   "source": [
    "**2.** Calculated the arithmetic operations below and printed the results for all 3 operations.        \n",
    "a + b * c / d           \n",
    "a + b * (c / d)  \n",
    "(a + b) * c / d     "
   ]
  },
  {
   "cell_type": "code",
   "execution_count": 132,
   "id": "d6bc546a-d306-4b76-a094-c4bfd0b94dd4",
   "metadata": {},
   "outputs": [
    {
     "name": "stdout",
     "output_type": "stream",
     "text": [
      "Operation 1:  50.0\n",
      "Operation 2:  50.0\n",
      "Operation 3:  90.0\n"
     ]
    }
   ],
   "source": [
    "print(\"Operation 1: \", a + b * c / d)\n",
    "print(\"Operation 2: \", a + b * (c / d))\n",
    "print(\"Operation 3: \", (a + b) * c / d)"
   ]
  },
  {
   "cell_type": "markdown",
   "id": "0d8cecf3-ebe4-47d7-871e-c61d859d560e",
   "metadata": {},
   "source": [
    "**3.**\n",
    "The output for the first and second operations are both **50** even though the order of operations was different for each one. The order of operations for the first one is multiplication, division then addition, while the second operation is division, multiplication then addition. \n",
    "The order of operation for the third is addition, multiplication then division. Since addition takes priority in the order of operations due to the parenthesis, the result differs from the first two operations since the output is **90**.\n"
   ]
  },
  {
   "cell_type": "markdown",
   "id": "ae67669f-1913-4458-9065-9b570742e6e9",
   "metadata": {},
   "source": [
    "**Strings Exercise**\n",
    "\n",
    "**4.** Assigns car and red as strings into variable *thing* and *color*"
   ]
  },
  {
   "cell_type": "code",
   "execution_count": 133,
   "id": "c81f4f0e-5292-46fa-b11a-09bee1e6a326",
   "metadata": {},
   "outputs": [],
   "source": [
    "thing, color = \"car\", \"red\""
   ]
  },
  {
   "cell_type": "markdown",
   "id": "918b7a70-2870-4be7-aaa5-4df92d550363",
   "metadata": {},
   "source": [
    "**5.** Prints the following string \"Isn’t the dealer’s best vehicle is the red car\" using the variables I just assigned."
   ]
  },
  {
   "cell_type": "code",
   "execution_count": 134,
   "id": "33429d40-457f-4f81-9a88-9911af0fdea3",
   "metadata": {},
   "outputs": [
    {
     "name": "stdout",
     "output_type": "stream",
     "text": [
      "Isn’t the dealer’s best vehicle is the red car\n"
     ]
    }
   ],
   "source": [
    "print(\"Isn’t the dealer’s best vehicle is the\", color, thing)"
   ]
  },
  {
   "cell_type": "markdown",
   "id": "8c4e9479-aa93-4b2e-92d2-9bbc1c1b2dc8",
   "metadata": {},
   "source": [
    "**List Exercise**\n",
    "\n",
    "**6.** Creates a list called *Numbers* with the following values: [15, 40, 50, 100, 115, 140]"
   ]
  },
  {
   "cell_type": "code",
   "execution_count": 135,
   "id": "4de8d4ac-2231-4353-a11f-559d7ef546d0",
   "metadata": {},
   "outputs": [],
   "source": [
    "Numbers = [15, 40, 50, 100, 115, 140]"
   ]
  },
  {
   "cell_type": "markdown",
   "id": "e701867b-606b-403b-a1d7-ba532b9cfaa2",
   "metadata": {},
   "source": [
    "**7.** Slices the *Numbers* list using indexing to only return 100 and 115."
   ]
  },
  {
   "cell_type": "code",
   "execution_count": 136,
   "id": "46461b39-96cd-4445-84d9-27ec725eff5a",
   "metadata": {},
   "outputs": [
    {
     "name": "stdout",
     "output_type": "stream",
     "text": [
      "[100, 115]\n"
     ]
    }
   ],
   "source": [
    "print(Numbers[3:5])"
   ]
  },
  {
   "cell_type": "markdown",
   "id": "d2c5b4db-375f-41fb-96fd-4369fd71dfca",
   "metadata": {},
   "source": [
    "**8.** Retrives the first 4 values from the *Numbers* list."
   ]
  },
  {
   "cell_type": "code",
   "execution_count": 137,
   "id": "69e05b35-d88c-4d32-8a78-0668e2452e9c",
   "metadata": {},
   "outputs": [
    {
     "name": "stdout",
     "output_type": "stream",
     "text": [
      "[15, 40, 50, 100]\n"
     ]
    }
   ],
   "source": [
    "print(Numbers[:4])"
   ]
  },
  {
   "cell_type": "markdown",
   "id": "f3716e6b-9b29-425a-b646-1b490d4c6509",
   "metadata": {},
   "source": [
    "**9.** Returns all the values from the list starting at the 3rd position."
   ]
  },
  {
   "cell_type": "code",
   "execution_count": 138,
   "id": "0bbd09d7-bf56-435c-8914-62f50b8afec2",
   "metadata": {},
   "outputs": [
    {
     "name": "stdout",
     "output_type": "stream",
     "text": [
      "[50, 100, 115, 140]\n"
     ]
    }
   ],
   "source": [
    "print(Numbers[2:])"
   ]
  },
  {
   "cell_type": "markdown",
   "id": "2a40b0e6-c57d-4fbe-9e1f-67234d6ffe78",
   "metadata": {},
   "source": [
    "**10.** Retrives the last 4 values from the *Numbers* list using negative indexing."
   ]
  },
  {
   "cell_type": "code",
   "execution_count": 139,
   "id": "c7200e5a-bf9b-4675-92a8-ad4ae470908e",
   "metadata": {},
   "outputs": [
    {
     "name": "stdout",
     "output_type": "stream",
     "text": [
      "[50, 100, 115, 140]\n"
     ]
    }
   ],
   "source": [
    "print(Numbers[-4:])"
   ]
  },
  {
   "cell_type": "markdown",
   "id": "691961af-3914-4d04-b0ac-440d72e98cdd",
   "metadata": {},
   "source": [
    "**11.** Value 15 from the *Numbers* list is in position **0**."
   ]
  },
  {
   "cell_type": "markdown",
   "id": "f28d8f99-91fe-491d-b745-b02db6eeab9f",
   "metadata": {},
   "source": [
    "**12.** Creates the new_Numbers list containing values 1 and 2. Creates the all_Numbers list containing both the *Numbers* list and *new_Numbers* list."
   ]
  },
  {
   "cell_type": "code",
   "execution_count": 140,
   "id": "96170302-744e-47da-9064-4262bda323ef",
   "metadata": {},
   "outputs": [
    {
     "name": "stdout",
     "output_type": "stream",
     "text": [
      "[1, 2, 15, 40, 50, 100, 115, 140]\n"
     ]
    }
   ],
   "source": [
    "new_Numbers = [1, 2]\n",
    "all_Numbers = new_Numbers + Numbers\n",
    "print(all_Numbers)"
   ]
  },
  {
   "cell_type": "markdown",
   "id": "ea5fb422-bfa0-43e6-b22c-cbd8d103a4c7",
   "metadata": {},
   "source": [
    "**13.** Sorts the *all_Numbers* list in desending order using the sort method."
   ]
  },
  {
   "cell_type": "code",
   "execution_count": 141,
   "id": "0cc220b5-fa59-4850-b9d3-121979096950",
   "metadata": {},
   "outputs": [
    {
     "name": "stdout",
     "output_type": "stream",
     "text": [
      "[140, 115, 100, 50, 40, 15, 2, 1]\n"
     ]
    }
   ],
   "source": [
    "all_Numbers.sort(reverse=True)\n",
    "print(all_Numbers)"
   ]
  },
  {
   "cell_type": "markdown",
   "id": "95341747-8b44-42cb-98f0-5335dc5428f0",
   "metadata": {},
   "source": [
    "**Dictionary Exercise**\n",
    "\n",
    "**14.** Creates a dictonary called *Dictionary* with state_name and state_code as the keys, and assigns a list to each key."
   ]
  },
  {
   "cell_type": "code",
   "execution_count": 142,
   "id": "9c9aad15-c3fc-4dba-9a65-7f009946409e",
   "metadata": {},
   "outputs": [],
   "source": [
    "Dictionary= {'state_name':['Texas', 'Florida'], 'state_code':['TX', 'FL']}"
   ]
  },
  {
   "cell_type": "markdown",
   "id": "bef1292d-9d8d-4e9e-a8fd-0a4ab460ac71",
   "metadata": {},
   "source": [
    "**15.** Retrieves the first element from the state_name key."
   ]
  },
  {
   "cell_type": "code",
   "execution_count": 143,
   "id": "550db1a3-d6eb-4443-8701-248a41c515ad",
   "metadata": {},
   "outputs": [
    {
     "data": {
      "text/plain": [
       "['Texas', 'Florida']"
      ]
     },
     "execution_count": 143,
     "metadata": {},
     "output_type": "execute_result"
    }
   ],
   "source": [
    "Dictionary['state_name']"
   ]
  },
  {
   "cell_type": "markdown",
   "id": "e2f97fdc-5bc2-4195-923b-1ea3b4b2f5c9",
   "metadata": {},
   "source": [
    "**16.** Adds a new key to *Dictionary* called geo_location and assigns a list to the new key. Prints the updated Dictionary to show the change."
   ]
  },
  {
   "cell_type": "code",
   "execution_count": 144,
   "id": "a4ccecd4-1cf9-433d-9e8c-9801505f4043",
   "metadata": {},
   "outputs": [
    {
     "name": "stdout",
     "output_type": "stream",
     "text": [
      "{'state_name': ['Texas', 'Florida'], 'state_code': ['TX', 'FL'], 'geo_location': ['South', 'south']}\n"
     ]
    }
   ],
   "source": [
    "Dictionary['geo_location'] = ['South', 'south']\n",
    "print(Dictionary)"
   ]
  },
  {
   "cell_type": "markdown",
   "id": "c2b8b803-9529-43c3-b496-e9067901fe19",
   "metadata": {},
   "source": [
    "**17.** Updates the 2nd value of the geo_location list from 'south' to 'South'. Prints the updated Dictionary to show the change."
   ]
  },
  {
   "cell_type": "code",
   "execution_count": 145,
   "id": "f5ec49eb-9b61-476a-829b-8b73b63e96a8",
   "metadata": {},
   "outputs": [
    {
     "name": "stdout",
     "output_type": "stream",
     "text": [
      "{'state_name': ['Texas', 'Florida'], 'state_code': ['TX', 'FL'], 'geo_location': ['South', 'South']}\n"
     ]
    }
   ],
   "source": [
    "Dictionary['geo_location'][1] = 'South'\n",
    "print(Dictionary)"
   ]
  },
  {
   "cell_type": "markdown",
   "id": "0a1bfd0a-eeff-418f-aae8-a38e9ac2b647",
   "metadata": {},
   "source": [
    "**Indentation Exercise**\n",
    "\n",
    "**18.** Correct indentation is used so that the function below runs properly with no errors, using 2 and 3 as the arguments."
   ]
  },
  {
   "cell_type": "code",
   "execution_count": 146,
   "id": "98829c1d-6d1e-4d91-90c1-9c51d26f02dd",
   "metadata": {},
   "outputs": [
    {
     "name": "stdout",
     "output_type": "stream",
     "text": [
      "5\n"
     ]
    }
   ],
   "source": [
    "def addition(x,y): \n",
    "    z =  x + y \n",
    "    return z \n",
    "print(addition(2,3))"
   ]
  },
  {
   "cell_type": "markdown",
   "id": "4e319969-03a3-44a6-984c-37d249786212",
   "metadata": {},
   "source": [
    "**19.** Creates a function called rectangle that calculates and returns the area and perimeter for the rectangle using 2 and 5 as the arguments."
   ]
  },
  {
   "cell_type": "code",
   "execution_count": 147,
   "id": "735b4366-8235-42ba-9a6b-38a70abea6ea",
   "metadata": {},
   "outputs": [
    {
     "name": "stdout",
     "output_type": "stream",
     "text": [
      "(10, 14)\n"
     ]
    }
   ],
   "source": [
    "def rectangle(length, width):\n",
    "    area = length * width\n",
    "    perimeter = 2 * (length + width)\n",
    "    return area, perimeter\n",
    "print(rectangle(2,5))"
   ]
  },
  {
   "cell_type": "markdown",
   "id": "f879142b-0470-4cc1-9c81-9669f23a7285",
   "metadata": {},
   "source": [
    "**Identify Exercise**\n",
    "\n",
    "**20.** Demonstrates that 9 is not equal to 5 + 6."
   ]
  },
  {
   "cell_type": "code",
   "execution_count": 148,
   "id": "98fe6756-fa70-4fac-b261-d005a9160074",
   "metadata": {},
   "outputs": [
    {
     "data": {
      "text/plain": [
       "True"
      ]
     },
     "execution_count": 148,
     "metadata": {},
     "output_type": "execute_result"
    }
   ],
   "source": [
    "9 != 5 + 6"
   ]
  },
  {
   "cell_type": "markdown",
   "id": "c711f858-1091-431d-b73c-b4b591d2f510",
   "metadata": {},
   "source": [
    "**21.** Demonstrates that the following expression is False: 4 is greater than 5 or 9 is not equal to 9 and 3 is equal to 1 + 2"
   ]
  },
  {
   "cell_type": "code",
   "execution_count": 149,
   "id": "620b7267-2cea-4a82-b777-0591ba6cac2e",
   "metadata": {},
   "outputs": [
    {
     "data": {
      "text/plain": [
       "False"
      ]
     },
     "execution_count": 149,
     "metadata": {},
     "output_type": "execute_result"
    }
   ],
   "source": [
    "4 > 5 or 9 != 9 and 3 == 1 + 2"
   ]
  },
  {
   "cell_type": "code",
   "execution_count": null,
   "id": "17d1d40a-9ac3-4f52-b313-b32e09643e90",
   "metadata": {},
   "outputs": [],
   "source": []
  }
 ],
 "metadata": {
  "kernelspec": {
   "display_name": "Python 3 (ipykernel)",
   "language": "python",
   "name": "python3"
  },
  "language_info": {
   "codemirror_mode": {
    "name": "ipython",
    "version": 3
   },
   "file_extension": ".py",
   "mimetype": "text/x-python",
   "name": "python",
   "nbconvert_exporter": "python",
   "pygments_lexer": "ipython3",
   "version": "3.12.3"
  }
 },
 "nbformat": 4,
 "nbformat_minor": 5
}
