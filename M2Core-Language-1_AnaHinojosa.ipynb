{
 "cells": [
  {
   "cell_type": "markdown",
   "metadata": {
    "nbgrader": {
     "grade": false,
     "grade_id": "cell-bcbf5dd53e90cad2",
     "locked": true,
     "schema_version": 3,
     "solution": false
    }
   },
   "source": [
    "# Core Language Part 1\n",
    "\n",
    "For the first part of the homework, you are asked to write out some lines of code and define variables with particular names. In the second half of the homework, you are asked to fill code in functions."
   ]
  },
  {
   "cell_type": "markdown",
   "metadata": {
    "nbgrader": {
     "grade": false,
     "grade_id": "cell-c404467d6443ad15",
     "locked": true,
     "schema_version": 3,
     "solution": false
    }
   },
   "source": [
    "### 1. Create and use two variables (1.5 points)\n",
    "\n",
    "**1a.** (0.5 point) Create a variable called `var1` that equals the integer 10. Create another variable called `var2` that equals the float 2.5. Multiply `var1` by `var2` and call the result `var3`. \n",
    "\n",
    "*Don't forget:* You will need to delete the line with `raise NotImplementedError`, write your own solution, and then re-run the cell before running the test cell. Each time you change code in a cell, you  will need to re-run that cell before running any other cells that depend on it!"
   ]
  },
  {
   "cell_type": "code",
   "execution_count": 17,
   "metadata": {
    "nbgrader": {
     "grade": false,
     "grade_id": "cell-6a3e3f6b30b2ee0e",
     "locked": false,
     "schema_version": 3,
     "solution": true
    }
   },
   "outputs": [],
   "source": [
    "# Input the code part of your answer here.\n",
    "var1 = 10\n",
    "var2 = 2.5\n",
    "\n",
    "var3 = var1 * var2"
   ]
  },
  {
   "cell_type": "code",
   "execution_count": 18,
   "metadata": {
    "nbgrader": {
     "grade": true,
     "grade_id": "cell-6dff7ca5e48eb93c",
     "locked": true,
     "points": 0.5,
     "schema_version": 3,
     "solution": false
    }
   },
   "outputs": [
    {
     "name": "stdout",
     "output_type": "stream",
     "text": [
      "Success!\n"
     ]
    }
   ],
   "source": [
    "# Test the value of each variable\n",
    "assert(var1 == 10)\n",
    "assert(var2 == 2.5)\n",
    "assert(var3 == 25)\n",
    "\n",
    "print('Success!')"
   ]
  },
  {
   "cell_type": "markdown",
   "metadata": {
    "nbgrader": {
     "grade": false,
     "grade_id": "cell-e5600d09353e6307",
     "locked": true,
     "schema_version": 3,
     "solution": false
    }
   },
   "source": [
    "**1b.** (0.5 point) Write (using Markdown) what the type of `var3` should be and why."
   ]
  },
  {
   "cell_type": "markdown",
   "metadata": {
    "nbgrader": {
     "grade": true,
     "grade_id": "cell-341bf7ec6f32d4fb",
     "locked": false,
     "points": 0.5,
     "schema_version": 3,
     "solution": true
    }
   },
   "source": [
    "var3 is a float type since it's multiplying an integer with a float, the result will output as a float to try maintain precision in case the value has deicimal points and is therefore not an integer."
   ]
  },
  {
   "cell_type": "markdown",
   "metadata": {
    "nbgrader": {
     "grade": false,
     "grade_id": "cell-0cff9ed01c0269f1",
     "locked": true,
     "schema_version": 3,
     "solution": false
    }
   },
   "source": [
    "**1c.** (0.5 point) Check if `var3` is greater than 15 and save result to the variable name `checkvar3`."
   ]
  },
  {
   "cell_type": "code",
   "execution_count": 19,
   "metadata": {
    "nbgrader": {
     "grade": false,
     "grade_id": "cell-ae656e231c94fee7",
     "locked": false,
     "schema_version": 3,
     "solution": true
    }
   },
   "outputs": [],
   "source": [
    "checkvar3 = var3 > 15"
   ]
  },
  {
   "cell_type": "code",
   "execution_count": 20,
   "metadata": {
    "nbgrader": {
     "grade": true,
     "grade_id": "cell-2f400f395a98fbd5",
     "locked": true,
     "points": 0.5,
     "schema_version": 3,
     "solution": false
    }
   },
   "outputs": [
    {
     "name": "stdout",
     "output_type": "stream",
     "text": [
      "Success!\n"
     ]
    }
   ],
   "source": [
    "assert(checkvar3)\n",
    "\n",
    "print('Success!')"
   ]
  },
  {
   "cell_type": "markdown",
   "metadata": {
    "nbgrader": {
     "grade": false,
     "grade_id": "cell-107057f6e28bfa3e",
     "locked": true,
     "schema_version": 3,
     "solution": false
    }
   },
   "source": [
    "### 2. Operations on strings (1 point)\n",
    "\n",
    "**2a.** (0.5 point) Define two strings: `string1` contains the word \"ink\" and `string2` contains the word \"jet\". Combine the two words together and call the resultant variable `printer`."
   ]
  },
  {
   "cell_type": "code",
   "execution_count": 21,
   "metadata": {
    "nbgrader": {
     "grade": false,
     "grade_id": "cell-2ea540ee892203eb",
     "locked": false,
     "schema_version": 3,
     "solution": true
    }
   },
   "outputs": [],
   "source": [
    "string1 = 'ink'\n",
    "string2 = 'jet'\n",
    "printer = string1 + string2"
   ]
  },
  {
   "cell_type": "code",
   "execution_count": 22,
   "metadata": {
    "nbgrader": {
     "grade": true,
     "grade_id": "cell-f06f27643c8964e6",
     "locked": true,
     "points": 0.5,
     "schema_version": 3,
     "solution": false
    }
   },
   "outputs": [
    {
     "name": "stdout",
     "output_type": "stream",
     "text": [
      "Success!\n"
     ]
    }
   ],
   "source": [
    "# test type of variables\n",
    "assert(isinstance(string1, str))\n",
    "assert(isinstance(string2, str))\n",
    "assert(isinstance(printer, str))\n",
    "\n",
    "# test final result\n",
    "assert(printer == 'inkjet')\n",
    "\n",
    "print('Success!')"
   ]
  },
  {
   "cell_type": "markdown",
   "metadata": {
    "nbgrader": {
     "grade": false,
     "grade_id": "cell-cea445a90d2e60c5",
     "locked": true,
     "schema_version": 3,
     "solution": false
    }
   },
   "source": [
    "**2b.** (0.5 point) Split the string by the letter \"k\" and save the resultant list in a variable named `reslist`."
   ]
  },
  {
   "cell_type": "code",
   "execution_count": 23,
   "metadata": {
    "nbgrader": {
     "grade": false,
     "grade_id": "cell-4f3584f327c70d2f",
     "locked": false,
     "schema_version": 3,
     "solution": true
    }
   },
   "outputs": [],
   "source": [
    "reslist = printer.split('k')\n"
   ]
  },
  {
   "cell_type": "code",
   "execution_count": 24,
   "metadata": {
    "nbgrader": {
     "grade": true,
     "grade_id": "cell-8d90e109198c0c97",
     "locked": true,
     "points": 0.5,
     "schema_version": 3,
     "solution": false
    }
   },
   "outputs": [
    {
     "name": "stdout",
     "output_type": "stream",
     "text": [
      "Success!\n"
     ]
    }
   ],
   "source": [
    "assert(isinstance(reslist, list))\n",
    "assert(reslist[0] == 'in')\n",
    "assert(reslist[1] == 'jet')\n",
    "\n",
    "print('Success!')"
   ]
  },
  {
   "cell_type": "markdown",
   "metadata": {
    "nbgrader": {
     "grade": false,
     "grade_id": "cell-58b999ab78170d00",
     "locked": true,
     "schema_version": 3,
     "solution": false
    }
   },
   "source": [
    "### 3. Make a list (1.5 points)\n",
    "\n",
    "**3a.** (0.5 point) Create a variable called `alist` that contains, in order, the string 'dog', the boolean True, and the number 34. Write your answer in the following cell."
   ]
  },
  {
   "cell_type": "code",
   "execution_count": 25,
   "metadata": {
    "nbgrader": {
     "grade": false,
     "grade_id": "cell-b8940cdbf0e33284",
     "locked": false,
     "schema_version": 3,
     "solution": true
    }
   },
   "outputs": [],
   "source": [
    "alist = ['dog', True, 34]"
   ]
  },
  {
   "cell_type": "code",
   "execution_count": 26,
   "metadata": {
    "nbgrader": {
     "grade": true,
     "grade_id": "cell-0b9aa531121ee3a4",
     "locked": true,
     "points": 0.5,
     "schema_version": 3,
     "solution": false
    }
   },
   "outputs": [
    {
     "name": "stdout",
     "output_type": "stream",
     "text": [
      "Success!\n"
     ]
    }
   ],
   "source": [
    "# This line tests to see if the variable you created, called `alist`, is of type list, and contains the correct element types\n",
    "assert(isinstance(alist, list))\n",
    "assert(isinstance(alist[0], str))\n",
    "assert(isinstance(alist[1], bool))\n",
    "assert(isinstance(alist[2], int))\n",
    "\n",
    "# This line tests to make sure the correct elements are contained in the list\n",
    "assert(alist[0] == 'dog')\n",
    "assert(alist[1] == True)\n",
    "assert(alist[2] == 34)\n",
    "\n",
    "print('Success!')"
   ]
  },
  {
   "cell_type": "markdown",
   "metadata": {
    "nbgrader": {
     "grade": false,
     "grade_id": "cell-2655df1adf721838",
     "locked": true,
     "schema_version": 3,
     "solution": false
    }
   },
   "source": [
    "**3b.** (0.5 point) Change the last entry of the list to equal the list `[2,5,9]`."
   ]
  },
  {
   "cell_type": "code",
   "execution_count": 27,
   "metadata": {
    "nbgrader": {
     "grade": false,
     "grade_id": "cell-d21e7dc5ecf4f34f",
     "locked": false,
     "schema_version": 3,
     "solution": true
    }
   },
   "outputs": [],
   "source": [
    "alist[2] = [2, 5, 9]\n"
   ]
  },
  {
   "cell_type": "code",
   "execution_count": 28,
   "metadata": {
    "nbgrader": {
     "grade": true,
     "grade_id": "cell-efd6296b634211fd",
     "locked": true,
     "points": 0.5,
     "schema_version": 3,
     "solution": false
    }
   },
   "outputs": [
    {
     "name": "stdout",
     "output_type": "stream",
     "text": [
      "Success!\n"
     ]
    }
   ],
   "source": [
    "assert(isinstance(alist[2], list))\n",
    "assert(alist[2] == [2,5,9])\n",
    "\n",
    "print('Success!')"
   ]
  },
  {
   "cell_type": "markdown",
   "metadata": {
    "nbgrader": {
     "grade": false,
     "grade_id": "cell-ebc41494a5161306",
     "locked": true,
     "schema_version": 3,
     "solution": false
    }
   },
   "source": [
    "**3c.** (0.5 point) Check if index 1 of `alist` is equivalent to the string \"True\" and save the result as variable `test`."
   ]
  },
  {
   "cell_type": "code",
   "execution_count": 29,
   "metadata": {
    "nbgrader": {
     "grade": false,
     "grade_id": "cell-6126d685e7ef4b2c",
     "locked": false,
     "schema_version": 3,
     "solution": true
    }
   },
   "outputs": [],
   "source": [
    "test = alist[1] == 'True'\n"
   ]
  },
  {
   "cell_type": "code",
   "execution_count": 30,
   "metadata": {
    "nbgrader": {
     "grade": true,
     "grade_id": "cell-5956761dfba66c52",
     "locked": true,
     "points": 0.5,
     "schema_version": 3,
     "solution": false
    }
   },
   "outputs": [
    {
     "name": "stdout",
     "output_type": "stream",
     "text": [
      "Success!\n"
     ]
    }
   ],
   "source": [
    "assert(not test)\n",
    "\n",
    "print('Success!')"
   ]
  },
  {
   "cell_type": "markdown",
   "metadata": {
    "nbgrader": {
     "grade": false,
     "grade_id": "cell-b4edeac960bc2a9f",
     "locked": true,
     "schema_version": 3,
     "solution": false
    }
   },
   "source": [
    "### 4. Make a dictionary (1 point)\n",
    "\n",
    "Make a dictionary that contains the capital cities of a given state. Instead of all 50 states, just include Washington, Texas, and California. The dictionary must be called `state_capitals` and should be able to used as follows:\n",
    "    \n",
    "    state_capitals['Texas'] = 'Austin'\n"
   ]
  },
  {
   "cell_type": "code",
   "execution_count": 31,
   "metadata": {
    "nbgrader": {
     "grade": false,
     "grade_id": "dictionary",
     "locked": false,
     "schema_version": 3,
     "solution": true
    }
   },
   "outputs": [],
   "source": [
    "# Used this website as guidance for creating this dictionary\n",
    "# https://docs.python.org/3/tutorial/datastructures.html#dictionaries\n",
    "\n",
    "state_capitals = {'Texas':'Austin', 'Washington':'Olympia', 'California':'Sacramento'}"
   ]
  },
  {
   "cell_type": "code",
   "execution_count": 32,
   "metadata": {
    "nbgrader": {
     "grade": true,
     "grade_id": "test_dictionary",
     "locked": true,
     "points": 1,
     "schema_version": 3,
     "solution": false
    }
   },
   "outputs": [
    {
     "name": "stdout",
     "output_type": "stream",
     "text": [
      "Success!\n"
     ]
    }
   ],
   "source": [
    "\"\"\"(1 point) Test code for the previous code. This cell should NOT give any errors when it is run.\"\"\"\n",
    "\n",
    "# makes sure your code returns a dictionary\n",
    "assert(isinstance(state_capitals, dict))\n",
    "\n",
    "# checks that the capitals can be accessed correctly\n",
    "assert(state_capitals['Texas'] == 'Austin')\n",
    "assert(state_capitals['Washington'] == 'Olympia')\n",
    "assert(state_capitals['California'] == 'Sacramento')\n",
    "\n",
    "# if nothing throws an assertion, good job!\n",
    "print(\"Success!\")"
   ]
  },
  {
   "cell_type": "markdown",
   "metadata": {},
   "source": [
    "**References:**\n",
    "* Python-3 Startup Guide\n",
    "* https://docs.python.org/3/tutorial/datastructures.html#dictionaries"
   ]
  },
  {
   "cell_type": "code",
   "execution_count": null,
   "metadata": {},
   "outputs": [],
   "source": []
  }
 ],
 "metadata": {
  "anaconda-cloud": {},
  "celltoolbar": "Create Assignment",
  "kernelspec": {
   "display_name": "Python 3 (ipykernel)",
   "language": "python",
   "name": "python3"
  },
  "language_info": {
   "codemirror_mode": {
    "name": "ipython",
    "version": 3
   },
   "file_extension": ".py",
   "mimetype": "text/x-python",
   "name": "python",
   "nbconvert_exporter": "python",
   "pygments_lexer": "ipython3",
   "version": "3.12.3"
  }
 },
 "nbformat": 4,
 "nbformat_minor": 4
}
