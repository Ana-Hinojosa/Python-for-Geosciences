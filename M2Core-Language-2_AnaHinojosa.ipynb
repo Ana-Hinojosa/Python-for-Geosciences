{
 "cells": [
  {
   "cell_type": "markdown",
   "metadata": {
    "nbgrader": {
     "grade": false,
     "grade_id": "cell-bcbf5dd53e90cad2",
     "locked": true,
     "schema_version": 3,
     "solution": false
    }
   },
   "source": [
    "# Core Language Part 2\n",
    "\n",
    "For this second part of the homework, you are asked to fill code and use for, if and while loops to solve problems."
   ]
  },
  {
   "cell_type": "markdown",
   "metadata": {
    "nbgrader": {
     "grade": false,
     "grade_id": "cell-43dea417928fe872",
     "locked": true,
     "schema_version": 3,
     "solution": false
    }
   },
   "source": [
    "### 5. Test for vowels (1 point)\n",
    "\n",
    "Create a loop that checks a character (i.e. a string of length 1) and returns True if it is a vowel, False otherwise.\n",
    "\n",
    "You can compare the input character with a known list of vowels. Don't forget about case!"
   ]
  },
  {
   "cell_type": "code",
   "execution_count": 7,
   "metadata": {
    "nbgrader": {
     "grade": false,
     "grade_id": "isvowel",
     "locked": false,
     "schema_version": 3,
     "solution": true
    }
   },
   "outputs": [
    {
     "name": "stdout",
     "output_type": "stream",
     "text": [
      "True\n"
     ]
    }
   ],
   "source": [
    "#   Takes a character and returns True if it is a vowel, and False otherwise.\n",
    "\n",
    "#   Parameters\n",
    "#   ----------\n",
    "#   char : string\n",
    "#   string of length 1\n",
    "\n",
    "#   Returns\n",
    "#   -------\n",
    "#   boolean telling whether char is a vowel or not\n",
    "\n",
    "char = 'o'\n",
    "vowel_list = ['a', 'e', 'i', 'o', 'u', 'A', 'E', 'I', 'O', 'U'] # ensures both uppercase and lowercase can be checked\n",
    "for vowel in vowel_list:\n",
    "    if char == vowel:\n",
    "        print('True')\n",
    "        break # flow control, leaves the loop once a match is made\n",
    "else:\n",
    "    print('False')"
   ]
  },
  {
   "cell_type": "markdown",
   "metadata": {
    "nbgrader": {
     "grade": false,
     "grade_id": "cell-7d7b62a2fc862de3",
     "locked": true,
     "schema_version": 3,
     "solution": false
    }
   },
   "source": [
    "### 6. Reverse a string (1 point)\n",
    "\n",
    "Create a loop that computes the reversal of a string. For example, \n",
    "    >>> reverse(\"I am testing\")\n",
    "    \"gnitset ma I\""
   ]
  },
  {
   "cell_type": "code",
   "execution_count": 8,
   "metadata": {
    "nbgrader": {
     "grade": false,
     "grade_id": "reverse",
     "locked": false,
     "schema_version": 3,
     "solution": true
    }
   },
   "outputs": [
    {
     "name": "stdout",
     "output_type": "stream",
     "text": [
      "desrever eb lliw gnirts sihT\n"
     ]
    }
   ],
   "source": [
    "#    Reverse string and then return in.\n",
    "    \n",
    "#    Parameters\n",
    "#    ----------\n",
    "#    string : str\n",
    "        \n",
    "        \n",
    "#    Returns\n",
    "#    -------\n",
    "#    string that is reversed\n",
    "\n",
    "\n",
    "# There are probably simpler ways to solve this problem but this is the only way I could figure out how to solve it.\n",
    "# Used this page as reference for the len() function - https://docs.python.org/3/library/functions.html#len\n",
    "\n",
    "string = ('This string will be reversed')\n",
    "reversed_string = ''    # empty string\n",
    "string_length = len(string) - 1    # gives the legnth of string but also substracts 1 to account for 0 as the starting index\n",
    "\n",
    "for letter in string:\n",
    "    reversed_string += string[string_length]    # adds each letter to the empty string each time it passes through the loop\n",
    "    string_length -= 1    # subtracts 1 each time the loop is ran so that the indexing keeps changing positions\n",
    "print(reversed_string)"
   ]
  },
  {
   "cell_type": "markdown",
   "metadata": {
    "nbgrader": {
     "grade": false,
     "grade_id": "cell-b891dd75f1343cd2",
     "locked": true,
     "schema_version": 3,
     "solution": false
    }
   },
   "source": [
    "### 7. Check for palindromes (2 points)\n",
    "\n",
    "Create a loop that recognizes palindromes (i.e. words and phrases that look the same written forwards and backwards). Make sure that case and spaces are ignored in your loop.\n",
    "   "
   ]
  },
  {
   "cell_type": "code",
   "execution_count": 12,
   "metadata": {
    "nbgrader": {
     "grade": false,
     "grade_id": "palindrome",
     "locked": false,
     "schema_version": 3,
     "solution": true
    }
   },
   "outputs": [
    {
     "name": "stdout",
     "output_type": "stream",
     "text": [
      "True\n"
     ]
    }
   ],
   "source": [
    "#    Returns True for a palindrome and False otherwise.\n",
    "    \n",
    "#    Parameters\n",
    "#    ----------\n",
    "#    phrase : string\n",
    "        \n",
    "        \n",
    "#    Returns\n",
    "#    -------\n",
    "#    Boolean\n",
    "\n",
    "\n",
    "# Used this page as guidance for the lowercase function - https://docs.python.org/3/library/stdtypes.html#str.lower\n",
    "# I used ChatGPT for guidance on how to fix my code so that the phrase is being properly reversed.\n",
    "# Here is the prompt I used: \"What's a simple way to reverse a string: I am trying to do it like this reversed_phrase += char since I am using a for\n",
    "# and if statement to remove spaces however the characters are being added in the original order\". I chose to use ChatGPTs code because I just had\n",
    "# change the order of my addition equation.\n",
    "\n",
    "phrase = 'RaceCAr'      # capitalized random letters in the word to show that case is being ignored\n",
    "updated_phrase = ''     # this will remove the spaces and adjust the casing to lowercase while maintaining the original order of the phrase\n",
    "reversed_phrase = ''\n",
    "phrase_length = len(phrase) - 1  # gives me the character length of the phrase variable\n",
    "\n",
    "for char in phrase:\n",
    "    if char != ' ':\n",
    "        # I was originally doing reversed_phrase += char but the output was the phrase in the original order, chatGPT gave a simple effective solution.\n",
    "        updated_phrase += char\n",
    "        reversed_phrase = char + reversed_phrase     # by having char added first it reverses the phrase\n",
    "\n",
    "# Checks to see if phrase variable is a palindrome\n",
    "if reversed_phrase.lower() == updated_phrase.lower():     # lower() makes all the letters lowercase\n",
    "    print('True')\n",
    "else:\n",
    "    print('False')"
   ]
  },
  {
   "cell_type": "markdown",
   "metadata": {
    "nbgrader": {
     "grade": false,
     "grade_id": "cell-d251c21ca4d49597",
     "locked": true,
     "schema_version": 3,
     "solution": false
    }
   },
   "source": [
    "### 8. Compute the length of a given list or string (2 points)\n",
    "Define a function that computes the length of a given list or string. (It is true that Python has the len() function built in, but do not use it for your solution — use a loop instead.)\n",
    "\n",
    "For example:\n",
    "\n",
    ">>> length(['string1', 'string2'])\n",
    "2\n",
    "\n",
    ">>> length('string1')\n",
    "7"
   ]
  },
  {
   "cell_type": "code",
   "execution_count": 13,
   "metadata": {
    "nbgrader": {
     "grade": false,
     "grade_id": "rot13",
     "locked": false,
     "schema_version": 3,
     "solution": true
    }
   },
   "outputs": [
    {
     "name": "stdout",
     "output_type": "stream",
     "text": [
      "The length of the list is 5\n",
      "The length of the string is 11\n"
     ]
    }
   ],
   "source": [
    "#    Compute the length of a given list or string, but without using `len`.\n",
    "    \n",
    "#    Parameters\n",
    "#    ----------\n",
    "#    inputs : string or list\n",
    "        \n",
    "        \n",
    "#    Returns\n",
    "#    -------\n",
    "#    integer that is either the number of characters in the input string or the number of \n",
    "#    entries in the input list.\n",
    "\n",
    "\n",
    "string_list = ['toyota', 'ford', 'jeep', 'dodge', 'chevrolet']\n",
    "string_word = 'toyota'\n",
    "string_length = 0 # initial value\n",
    "\n",
    "# Computes the length for a list\n",
    "for string in string_list:\n",
    "    string_length += 1\n",
    "print('The length of the list is', string_length)\n",
    "\n",
    "# Computes the length for a string\n",
    "for letter in string_word:\n",
    "    string_length += 1\n",
    "print('The length of the string is', string_length)\n"
   ]
  },
  {
   "cell_type": "markdown",
   "metadata": {},
   "source": [
    "### 9. Number of integers to reach 1 million (2 points)\n",
    "\n",
    "Calculate how many integers, starting from 1 and counting each consecutive integer, are needed to add up to 1 million. Use a `while` function to do this. You shouldn't need to subtract 1 from your final answer to get this to work out."
   ]
  },
  {
   "cell_type": "code",
   "execution_count": 14,
   "metadata": {},
   "outputs": [
    {
     "name": "stdout",
     "output_type": "stream",
     "text": [
      "The number of consecutive integers is 1414\n",
      "The total sum is 1000405\n"
     ]
    }
   ],
   "source": [
    "#    Find the number of consecutive integers (starting from 1) that are needed to add \n",
    "#    together to sum to 1 million.'''\n",
    "    \n",
    "integer = 0   # number of integers\n",
    "total = 0    # keeps track of the sum of the integers being added\n",
    "\n",
    "while total <= 1000000:\n",
    "    integer += 1\n",
    "    total += integer\n",
    "    \n",
    "print('The number of consecutive integers is', integer)\n",
    "print('The total sum is', total)"
   ]
  },
  {
   "cell_type": "markdown",
   "metadata": {},
   "source": [
    "The Python-3 Startup Guide and M2 Coding With Python videos were very informative and helpful with completing this. https://docs.python.org/ is also a great resource.\n",
    "**References:**\n",
    "* https://docs.python.org/3/tutorial/controlflow.html\n",
    "* https://docs.python.org/3/library/stdtypes.html#str.lower\n",
    "* https://docs.python.org/3/library/functions.html#len\n",
    "* ChatGPT prompt: \"What's a simple way to reverse a string: I am trying to do it like this reversed_phrase += char since I am using a for and if statement to remove spaces however the characters are being added in the original order\"\n"
   ]
  },
  {
   "cell_type": "code",
   "execution_count": null,
   "metadata": {},
   "outputs": [],
   "source": []
  }
 ],
 "metadata": {
  "anaconda-cloud": {},
  "celltoolbar": "Create Assignment",
  "kernelspec": {
   "display_name": "Python 3 (ipykernel)",
   "language": "python",
   "name": "python3"
  },
  "language_info": {
   "codemirror_mode": {
    "name": "ipython",
    "version": 3
   },
   "file_extension": ".py",
   "mimetype": "text/x-python",
   "name": "python",
   "nbconvert_exporter": "python",
   "pygments_lexer": "ipython3",
   "version": "3.12.3"
  }
 },
 "nbformat": 4,
 "nbformat_minor": 4
}
