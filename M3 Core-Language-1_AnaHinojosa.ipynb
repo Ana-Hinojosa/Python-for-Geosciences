{
 "cells": [
  {
   "cell_type": "markdown",
   "metadata": {
    "nbgrader": {
     "grade": false,
     "grade_id": "cell-644bb211b2a5eb19",
     "locked": true,
     "schema_version": 3,
     "solution": false
    }
   },
   "source": [
    "### Core Language 3 Part 1"
   ]
  },
  {
   "cell_type": "markdown",
   "metadata": {
    "nbgrader": {
     "grade": false,
     "grade_id": "cell-916c7d25dd2b0c34",
     "locked": true,
     "schema_version": 3,
     "solution": false
    }
   },
   "source": [
    "### 1. Compute the length of a given list or string (2 points)\n",
    "\n",
    "Define a function that computes the length of a given list or string. (It is true that Python has the len() function built in, but do not use it for your solution — use a loop instead.)\n",
    "\n",
    "For example:\n",
    "\n",
    "    >>> length(['string1', 'string2'])\n",
    "    2\n",
    "    >>> length('string1')\n",
    "    7"
   ]
  },
  {
   "cell_type": "code",
   "execution_count": 7,
   "metadata": {
    "nbgrader": {
     "grade": false,
     "grade_id": "cell-7cc34eb8c688c3a5",
     "locked": false,
     "schema_version": 3,
     "solution": true
    }
   },
   "outputs": [
    {
     "name": "stdout",
     "output_type": "stream",
     "text": [
      "9\n",
      "7\n"
     ]
    }
   ],
   "source": [
    "def length(inputs):\n",
    "    \"\"\"Compute the length of a given list or string, but without using `len`.\n",
    "    \n",
    "    Parameters\n",
    "    ----------\n",
    "    inputs : string or list\n",
    "        \n",
    "        \n",
    "    Returns\n",
    "    -------\n",
    "    integer that is either the number of characters in the input string or the number of \n",
    "    entries in the input list.\n",
    "    \"\"\"\n",
    "    ### BEGIN SOLUTION\n",
    "    \n",
    "    length_count = 0\n",
    "    for string in inputs:\n",
    "        length_count += 1\n",
    "    \n",
    "    return length_count\n",
    "    \n",
    "print(length('wednesday'))\n",
    "print(length(['monday', 'tuesday', 'wednesday', 'thursday', 'friday', 'saturday', 'sunday']))"
   ]
  },
  {
   "cell_type": "code",
   "execution_count": 8,
   "metadata": {
    "nbgrader": {
     "grade": true,
     "grade_id": "cell-3870df85ff34e2bb",
     "locked": true,
     "points": 2,
     "schema_version": 3,
     "solution": false
    }
   },
   "outputs": [
    {
     "name": "stdout",
     "output_type": "stream",
     "text": [
      "Success!\n"
     ]
    }
   ],
   "source": [
    "\"\"\"(2 points) Test code for the previous function. This cell should NOT give any errors when it is run.\"\"\"\n",
    "from unittest import TestCase\n",
    "assert_equal = TestCase().assertEqual\n",
    "\n",
    "# Check a list\n",
    "inputs = ['apple', 'orange']\n",
    "assert_equal(length(inputs), 2)\n",
    "\n",
    "# Check a string\n",
    "inputs = 'tomato'\n",
    "assert_equal(length(inputs), 6)\n",
    "\n",
    "# What about a string with a space in it?\n",
    "inputs = 'bacon and eggs'\n",
    "assert_equal(length(inputs), 14)\n",
    "\n",
    "# Also will look for not using the built-in len() function\n",
    "len_old = len\n",
    "len = None\n",
    "inputs = 'tomato'\n",
    "assert_equal(length(inputs), 6)\n",
    "len = len_old\n",
    "\n",
    "print(\"Success!\")"
   ]
  },
  {
   "cell_type": "markdown",
   "metadata": {
    "nbgrader": {
     "grade": false,
     "grade_id": "cell-07ddd638868eb4fd",
     "locked": true,
     "schema_version": 3,
     "solution": false
    }
   },
   "source": [
    "### 2a-b. Convert list of words into list of integers of length of words (2 points)\n",
    "\n",
    "Write a series of functions that maps a list of words into a list of integers representing the lengths of the corresponding words. Write them in two different ways: \n",
    "\n",
    "1. using a for-loop\n",
    "1. using list comprehensions. \n",
    "\n",
    "Each function will return a list of word lengths, for example,\n",
    "\n",
    "    >>> method1(['list', 'of', 'words'])\n",
    "    [4, 2, 5]"
   ]
  },
  {
   "cell_type": "code",
   "execution_count": 9,
   "metadata": {
    "nbgrader": {
     "grade": false,
     "grade_id": "forloop",
     "locked": false,
     "schema_version": 3,
     "solution": true
    }
   },
   "outputs": [
    {
     "name": "stdout",
     "output_type": "stream",
     "text": [
      "[6, 7, 9, 8, 6, 8, 6]\n"
     ]
    }
   ],
   "source": [
    "# part a\n",
    "def method1(input1):\n",
    "    \"\"\"Returns a list of integers representing the lengths of the corresponding input list of words.\n",
    "    Do this using a for loop.\n",
    "    \n",
    "    Parameters\n",
    "    ----------\n",
    "    input1 : list of str\n",
    "        inputs to be counted   \n",
    "        \n",
    "    Returns\n",
    "    -------\n",
    "    list of integers counting the elements in the input list\n",
    "    \"\"\"\n",
    "    ### BEGIN SOLUTION\n",
    "    \n",
    "    list_lengths = []\n",
    "    for list_item in input1:\n",
    "        length_of_item = len(list_item)\n",
    "        list_lengths += [length_of_item]\n",
    "    return list_lengths\n",
    "\n",
    "print(method1(['monday', 'tuesday', 'wednesday', 'thursday', 'friday', 'saturday', 'sunday']))"
   ]
  },
  {
   "cell_type": "code",
   "execution_count": 10,
   "metadata": {
    "nbgrader": {
     "grade": true,
     "grade_id": "test_forloop",
     "locked": true,
     "points": 1,
     "schema_version": 3,
     "solution": false
    }
   },
   "outputs": [
    {
     "name": "stdout",
     "output_type": "stream",
     "text": [
      "success!\n"
     ]
    }
   ],
   "source": [
    "\"\"\"(1 point) Test code for the previous function. This cell should NOT give any errors when it is run.\"\"\"\n",
    "# check with a list\n",
    "words = ['one', 'two', 'three']\n",
    "assert_equal(method1(words), [3, 3, 5])\n",
    "# Also will check that a for loop was used\n",
    "print('success!')"
   ]
  },
  {
   "cell_type": "code",
   "execution_count": 11,
   "metadata": {
    "nbgrader": {
     "grade": false,
     "grade_id": "listcomprehension",
     "locked": false,
     "schema_version": 3,
     "solution": true
    }
   },
   "outputs": [
    {
     "name": "stdout",
     "output_type": "stream",
     "text": [
      "[6, 7, 9, 8, 6, 8, 6]\n"
     ]
    }
   ],
   "source": [
    "# part b\n",
    "def method2(input2):\n",
    "    \"\"\"Returns a list of integers representing the lengths of the corresponding input list of words.\n",
    "    Do this using a list comprehension.\n",
    "    \n",
    "    Parameters\n",
    "    ----------\n",
    "    input1 : list of str\n",
    "        inputs to be counted   \n",
    "        \n",
    "    Returns\n",
    "    -------\n",
    "    list of integers counting the elements in the input list\n",
    "    \"\"\"\n",
    "    ### BEGIN SOLUTION\n",
    "\n",
    "    lists = [len(list_item) for list_item in input2]\n",
    "    return lists\n",
    "\n",
    "print(method2(['monday', 'tuesday', 'wednesday', 'thursday', 'friday', 'saturday', 'sunday']))"
   ]
  },
  {
   "cell_type": "code",
   "execution_count": 12,
   "metadata": {
    "nbgrader": {
     "grade": true,
     "grade_id": "test_listcomprehension",
     "locked": true,
     "points": 1,
     "schema_version": 3,
     "solution": false
    }
   },
   "outputs": [
    {
     "name": "stdout",
     "output_type": "stream",
     "text": [
      "success!\n"
     ]
    }
   ],
   "source": [
    "\"\"\"(1 point) Test code for the previous function. This cell should NOT give any errors when it is run.\"\"\"\n",
    "# check with a list\n",
    "words = ['one', 'two', 'three']\n",
    "assert_equal(method2(words), [3, 3, 5])\n",
    "# Also will check that a list comprehension was used\n",
    "print('success!')"
   ]
  },
  {
   "cell_type": "code",
   "execution_count": 13,
   "metadata": {
    "nbgrader": {
     "grade": true,
     "grade_id": "test_all",
     "locked": true,
     "points": 1,
     "schema_version": 3,
     "solution": false
    }
   },
   "outputs": [
    {
     "name": "stdout",
     "output_type": "stream",
     "text": [
      "success!\n"
     ]
    }
   ],
   "source": [
    "\"\"\"(1 point) Test code for the previous function. This cell should NOT give any errors when it is run.\"\"\"\n",
    "words = ['five', 'eight', 'infinity']\n",
    "# Check that the result is the same for all methods\n",
    "assert_equal(method1(words), method2(words))\n",
    "print('success!')"
   ]
  },
  {
   "cell_type": "markdown",
   "metadata": {
    "nbgrader": {
     "grade": false,
     "grade_id": "cell-50c577a724c2dc2a",
     "locked": true,
     "schema_version": 3,
     "solution": false
    }
   },
   "source": [
    "### 3. Number of integers to reach 1 million (2 points)\n",
    "\n",
    "Calculate how many integers, starting from 1 and counting each consecutive integer, are needed to add up to more than 1 million. Use a `while` function to do this. You shouldn't need to subtract 1 from your final answer to get this to work out."
   ]
  },
  {
   "cell_type": "code",
   "execution_count": 15,
   "metadata": {
    "nbgrader": {
     "grade": false,
     "grade_id": "cell-3e995c9f072905fb",
     "locked": false,
     "schema_version": 3,
     "solution": true
    }
   },
   "outputs": [
    {
     "name": "stdout",
     "output_type": "stream",
     "text": [
      "1414\n"
     ]
    }
   ],
   "source": [
    "def ints_to_million():\n",
    "    '''Find the number of consecutive integers (starting from 1) that are needed to add \n",
    "    together to sum to more than 1 million.'''\n",
    "    \n",
    "    ### BEGIN SOLUTION\n",
    "    \n",
    "    integer = 0\n",
    "    total = 0\n",
    "\n",
    "    while total <= 1000000:\n",
    "        integer += 1\n",
    "        total += integer   \n",
    "    return integer\n",
    "    \n",
    "print(ints_to_million()) "
   ]
  },
  {
   "cell_type": "code",
   "execution_count": 16,
   "metadata": {
    "nbgrader": {
     "grade": true,
     "grade_id": "cell-c17f04140621a1f3",
     "locked": true,
     "points": 2,
     "schema_version": 3,
     "solution": false
    }
   },
   "outputs": [
    {
     "name": "stdout",
     "output_type": "stream",
     "text": [
      "success!\n"
     ]
    }
   ],
   "source": [
    "\"\"\"(2 points) Test code for the previous function. This cell should NOT give any errors when it is run.\"\"\"\n",
    "\n",
    "# save the number of integers\n",
    "numints = ints_to_million()\n",
    "\n",
    "assert(numints*(numints+1)/2 == 1000405)\n",
    "\n",
    "print('success!')"
   ]
  },
  {
   "cell_type": "markdown",
   "metadata": {},
   "source": [
    "### 4. Encode and decode using ROT-13 (2 points)\n",
    "\n",
    "In cryptography, a Caesar cipher is a very simple encryption techniques in which each letter in the plain text is replaced by a letter some fixed number of positions down the alphabet. For example, with a shift of 3, A would be replaced by D, B would become E, and so on. The method is named after Julius Caesar, who used it to communicate with his generals. ROT-13 (\"rotate by 13 places\") is a widely used example of a Caesar cipher where the shift is 13. In Python, the key for ROT-13 may be represented by means of the following dictionary:\n",
    "\n",
    "    key = {'a':'n', 'b':'o', 'c':'p', 'd':'q', 'e':'r', 'f':'s', 'g':'t', 'h':'u', \n",
    "           'i':'v', 'j':'w', 'k':'x', 'l':'y', 'm':'z', 'n':'a', 'o':'b', 'p':'c', \n",
    "           'q':'d', 'r':'e', 's':'f', 't':'g', 'u':'h', 'v':'i', 'w':'j', 'x':'k',\n",
    "           'y':'l', 'z':'m', 'A':'N', 'B':'O', 'C':'P', 'D':'Q', 'E':'R', 'F':'S', \n",
    "           'G':'T', 'H':'U', 'I':'V', 'J':'W', 'K':'X', 'L':'Y', 'M':'Z', 'N':'A', \n",
    "           'O':'B', 'P':'C', 'Q':'D', 'R':'E', 'S':'F', 'T':'G', 'U':'H', 'V':'I', \n",
    "           'W':'J', 'X':'K', 'Y':'L', 'Z':'M'}\n",
    "\n",
    "Your task in this exercise is to implement an encoder/decoder of ROT-13. Once you're done, you will be able to read the following secret message:\n",
    "\n",
    "       Pnrfne pvcure? V zhpu cersre Pnrfne fnynq!\n",
    "\n",
    "Note that since English has 26 characters, your ROT-13 program will be able to both encode and decode texts written in English. You should be able to do this using the properties of a dictionary."
   ]
  },
  {
   "cell_type": "code",
   "execution_count": 17,
   "metadata": {},
   "outputs": [
    {
     "name": "stdout",
     "output_type": "stream",
     "text": [
      "Caesar cipher? I much prefer Caesar salad!\n"
     ]
    }
   ],
   "source": [
    "key = {'a':'n', 'b':'o', 'c':'p', 'd':'q', 'e':'r', 'f':'s', 'g':'t', 'h':'u', \n",
    "       'i':'v', 'j':'w', 'k':'x', 'l':'y', 'm':'z', 'n':'a', 'o':'b', 'p':'c', \n",
    "       'q':'d', 'r':'e', 's':'f', 't':'g', 'u':'h', 'v':'i', 'w':'j', 'x':'k',\n",
    "       'y':'l', 'z':'m', 'A':'N', 'B':'O', 'C':'P', 'D':'Q', 'E':'R', 'F':'S', \n",
    "       'G':'T', 'H':'U', 'I':'V', 'J':'W', 'K':'X', 'L':'Y', 'M':'Z', 'N':'A', \n",
    "       'O':'B', 'P':'C', 'Q':'D', 'R':'E', 'S':'F', 'T':'G', 'U':'H', 'V':'I', \n",
    "       'W':'J', 'X':'K', 'Y':'L', 'Z':'M'}\n",
    "\n",
    "def rot13(letter):\n",
    "    \"\"\"Swap letter indicated in key.\n",
    "    \n",
    "    Parameters\n",
    "    ----------\n",
    "    letter : string of length 1\n",
    "        letter to be swapped using the key dictionary\n",
    "        \n",
    "    Returns\n",
    "    -------\n",
    "    letter\n",
    "    \"\"\"\n",
    "    # References: https://docs.python.org/3/library/functions.html#len, https://www.w3schools.com/python/ref_dictionary_get.asp,\n",
    "    # https://docs.python.org/3/library/stdtypes.html#dict.get\n",
    "    \n",
    "    phrase_decoded = '' # empty string\n",
    "    \n",
    "    for item in letter:\n",
    "        phrase_decoded += key.get(item, item) # the second 'item' is necessary for spaces in the phrase since spaces do not exist in the key\n",
    "                                               # without second item it would return an error    \n",
    "    return phrase_decoded\n",
    "    \n",
    "print(rot13('Pnrfne pvcure? V zhpu cersre Pnrfne fnynq!'))"
   ]
  },
  {
   "cell_type": "code",
   "execution_count": 18,
   "metadata": {},
   "outputs": [
    {
     "name": "stdout",
     "output_type": "stream",
     "text": [
      "Success!\n"
     ]
    }
   ],
   "source": [
    "\"\"\"(2 points) Test code for the previous function. This cell should NOT give any errors when it is run.\"\"\"\n",
    "phrase = 'Pnrfne pvcure? V zhpu cersre Pnrfne fnynq!'\n",
    "\n",
    "translatedchars = list(map(rot13, phrase))  # map connects a function with \n",
    "                                            # each letter in phrase.\n",
    "translated = ''.join(translatedchars)  # we got a bunch of characters back. Join combines them\n",
    "                                       # into a string\n",
    "\n",
    "# recode\n",
    "retranslatedchars = list(map(rot13, translated))\n",
    "retranslated = ''.join(retranslatedchars)\n",
    "    \n",
    "# Check decode\n",
    "import unittest\n",
    "test = unittest.TestCase()\n",
    "test.assertEqual(translated, \"Caesar cipher? I much prefer Caesar salad!\")\n",
    "test.assertEqual(retranslated, phrase)  # check that it works both ways\n",
    "\n",
    "print(\"Success!\")"
   ]
  },
  {
   "cell_type": "markdown",
   "metadata": {},
   "source": [
    "**References:**\n",
    "* https://docs.python.org/3/tutorial/controlflow.html#for-statements\n",
    "* https://docs.python.org/3/tutorial/datastructures.html#list-comprehensions\n",
    "* https://docs.python.org/3/tutorial/controlflow.html#defining-functions\n",
    "* https://docs.python.org/3/library/stdtypes.html#dict.get\n",
    "* Python-3 Startup Guide\n",
    "* M3 Coding With Python\n",
    "* M2 Coding With Python\n",
    "* https://www.w3schools.com/python/python_lists_comprehension.asp\n",
    "* https://www.w3schools.com/python/ref_dictionary_get.asp\n",
    "* https://docs.python.org/3/library/functions.html#len"
   ]
  },
  {
   "cell_type": "code",
   "execution_count": null,
   "metadata": {},
   "outputs": [],
   "source": []
  }
 ],
 "metadata": {
  "anaconda-cloud": {},
  "celltoolbar": "Create Assignment",
  "kernelspec": {
   "display_name": "Python 3 (ipykernel)",
   "language": "python",
   "name": "python3"
  },
  "language_info": {
   "codemirror_mode": {
    "name": "ipython",
    "version": 3
   },
   "file_extension": ".py",
   "mimetype": "text/x-python",
   "name": "python",
   "nbconvert_exporter": "python",
   "pygments_lexer": "ipython3",
   "version": "3.12.3"
  }
 },
 "nbformat": 4,
 "nbformat_minor": 4
}
