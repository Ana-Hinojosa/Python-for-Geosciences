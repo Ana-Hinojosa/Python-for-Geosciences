{
 "cells": [
  {
   "cell_type": "markdown",
   "id": "b89d1cf4",
   "metadata": {},
   "source": [
    "### Core Language 3 Part II"
   ]
  },
  {
   "cell_type": "markdown",
   "id": "a161cb40",
   "metadata": {},
   "source": [
    "### 4. Number lines in a text file (3 points)\n",
    "\n",
    "Write a function, `num_lines()`, that numbers all of the lines in a text file, skipping empty lines, and writes the output to another specified file. The output file might look something like\n",
    "\n",
    "    0    This is the first line of the file\n",
    "    1    This is the second line of the file\n",
    "    \n",
    "    2    This is the fourth line of the file\n",
    "\n",
    "where the third line is empty, and not counted.\n",
    "\n",
    "You can see by looking at the test cell that you can test your code on your own with an input file called `inputfile.txt`, which is sitting in the same directory as this notebook."
   ]
  },
  {
   "cell_type": "code",
   "execution_count": 11,
   "id": "275cbfbe",
   "metadata": {},
   "outputs": [],
   "source": [
    "# https://www.w3schools.com/python/python_file_write.asp\n",
    "# M3 Coding With Python\n",
    "# https://www.geeksforgeeks.org/formatted-string-literals-f-strings-python/\n",
    "# https://docs.python.org/3/tutorial/inputoutput.html#methods-of-file-objects\n",
    "# https://docs.python.org/3/library/stdtypes.html#str.strip\n",
    "# ChatGPT prompt: \"what function can i use to still write the empty lines but not number them? can i use a for loop?\n",
    "                # i want to only number lines that have text\"\n",
    "# Dr Leila Belabbasi pointed out that asset_equal is defined\n",
    "from unittest import TestCase\n",
    "assert_equal = TestCase().assertEqual\n",
    "\n",
    "def num_lines(inputfilename, outputfilename):\n",
    "    \"\"\"Numbers all lines in a text file, skipping empty lines. Writes results to output file.\n",
    "    \n",
    "    Parameters\n",
    "    ----------\n",
    "    inputfilename : string\n",
    "        Name of the input file to be read in.      \n",
    "        \n",
    "    Returns\n",
    "    -------\n",
    "    Nothing, but does write results to file outputfilename.\n",
    "    \"\"\"\n",
    "    ### BEGIN SOLUTION\n",
    "    with open(inputfilename, 'r') as inputfile: # reads input file\n",
    "        input_lines = inputfile.readlines()\n",
    "            \n",
    "    with open(outputfilename, 'w') as outputfile: # creates/writes to output file\n",
    "        count = 0 # line numbering starts at 0\n",
    "        # Used ChatGPT to help troubleshoot this since I could not figure out how to skip empty lines without removing them completely\n",
    "        # or without numbering empty lines\n",
    "        for line in input_lines:\n",
    "            if line.strip(): # makes sure the line is not empty and then numbers it\n",
    "                outputfile.write(f'{count} {line}')\n",
    "                count += 1\n",
    "            else: # outputs the empty line but does not number it\n",
    "                outputfile.write(line)\n",
    "                \n",
    "num_lines('C:/Users/anagomez/M3/inputfile.txt', 'C:/Users/anagomez/M3/outputfile.txt')\n",
    "    "
   ]
  },
  {
   "cell_type": "code",
   "execution_count": 12,
   "id": "a448ee95",
   "metadata": {},
   "outputs": [
    {
     "name": "stdout",
     "output_type": "stream",
     "text": [
      "Success!\n"
     ]
    }
   ],
   "source": [
    "\"\"\"(3 points) Test code for the previous function. This cell should NOT give any errors when it is run.\"\"\"\n",
    "\n",
    "# run code\n",
    "inputfilename = 'inputfile.txt'  # this is in the hw directory\n",
    "\n",
    "# put output file in user directory:\n",
    "import os\n",
    "outputfilename = inputfilename.split('/')[-1].split('.')[0] + '_mod.txt'  # splitting up file name and removing path\n",
    "outputfilename = '/'.join((os.getcwd(), outputfilename))  # this gives absolute path to user directory\n",
    "num_lines(inputfilename, outputfilename)  # save to local directory\n",
    "\n",
    "# check for existence of output file\n",
    "assert os.path.exists(outputfilename)\n",
    "\n",
    "# check for text in output file being correct\n",
    "fin = open(outputfilename, 'r')  # prepare to read\n",
    "lines = fin.readlines()\n",
    "line = lines[0].split(' ')\n",
    "assert_equal(line[0], '0')  # check first word in line\n",
    "assert_equal(line[-1], 'eros.\\n')  # check final word in line\n",
    "assert_equal(lines[1], '\\n')  # check empty line\n",
    "line = lines[2].split(' ')\n",
    "assert_equal(line[0], '1')  # check first word in line\n",
    "assert_equal(line[-1], 'sodales.\\n')  # check final word in line\n",
    "assert_equal(lines[3], '\\n')  # check empty line\n",
    "line = lines[4].split(' ')\n",
    "assert_equal(line[0], '2')  # check first word in line\n",
    "assert_equal(line[-1], 'a.\\n')  # check final word in line\n",
    "assert_equal(lines[5], '\\n')  # check empty line\n",
    "line = lines[6].split(' ')\n",
    "assert_equal(line[0], '3')  # check first word in line\n",
    "assert_equal(line[-1], 'ut.\\n')  # check final word in line\n",
    "assert_equal(lines[7], '\\n')  # check empty line\n",
    "line = lines[8].split(' ')\n",
    "assert_equal(line[0], '4')  # check first word in line\n",
    "assert_equal(line[-1], 'malesuada.\\n')  # check final word in line\n",
    "fin.close()\n",
    "\n",
    "print('Success!')"
   ]
  },
  {
   "cell_type": "markdown",
   "id": "930944ea",
   "metadata": {},
   "source": [
    "### 5. Reading in and parsing a file\n",
    "\n",
    "Read in `GPS.dat`, a file containing GPS track information. This file is similar to but different from the file we used in class. This file is tab-delimited, but contains other characters as well. It has data from several drifters, whose names are listed in the file after the TRACK label; the first is named \"ACTIVE LOG\". \n",
    "\n",
    "**5a.** (4 points) Read in the date and time information from the file for the drifter ACTIVE LOG only, and form a list of `datetime` objects with this information, where each line in the file is a data point that should have its own `datetime` object. Remember that `datetime` is a specific package that we used as an example in class. Your `get_datetimes()` function should return a list of `datetime` objects."
   ]
  },
  {
   "cell_type": "code",
   "execution_count": 13,
   "id": "03225375",
   "metadata": {},
   "outputs": [],
   "source": [
    "# https://docs.python.org/3/tutorial/controlflow.html\n",
    "# https://docs.python.org/3/library/stdtypes.html#str.strip\n",
    "# https://www.geeksforgeeks.org/python-string-split/\n",
    "# https://www.geeksforgeeks.org/python-escape-characters/\n",
    "# https://docs.python.org/3/library/datetime.html#strftime-and-strptime-behavior\n",
    "# https://www.geeksforgeeks.org/python-datetime-strptime-function/\n",
    "# https://www.geeksforgeeks.org/how-to-fix-valueerror-exceptions-in-python/\n",
    "# https://pythonbasics.org/try-except/\n",
    "\n",
    "# part a\n",
    "from datetime import datetime\n",
    "\n",
    "def get_datetimes(f):\n",
    "    \"\"\"Returns a list of datetime objects that have been read in from the input file object.\n",
    "    \n",
    "    Parameters\n",
    "    ----------\n",
    "    f : file object\n",
    "        open file object to be read from  \n",
    "        \n",
    "    Returns\n",
    "    -------\n",
    "    list of datetime objects\n",
    "    \"\"\"\n",
    "    ### BEGIN SOLUTION\n",
    "    datetimes = []  # empty list\n",
    "    \n",
    "    for line in f:   # loops through each line in the file\n",
    "        # Searches through the line until ACTIVE LOG is located\n",
    "        if 'ACTIVE LOG' in line:\n",
    "            break  # leaves the loop\n",
    "\n",
    "    for line in f:   # loops through every line within Track ACTIVE LOG\n",
    "        if 'Trackpoint' in line:   # locates Trackpoint and skips empty lines\n",
    "            column_name = line.split('\\t')   # splits up into individual columns using tabs since it's tab-delimited  \n",
    "            time = column_name[2].strip()    # retrieves the 3rd position column (Time), also strips any zeros at the beginning or end  \n",
    "            try:   # Try statement removed this error (ValueError: time data '' does not match format '%m/%d/%Y %I:%M:%S %p')\n",
    "                # changes time from a string to a datetime object\n",
    "                datetime_formatted = datetime.strptime(time, '%m/%d/%Y %I:%M:%S %p')   # %m/%d/%Y %I:%M:%S %p = month/day/year hour:minute:second am/pm\n",
    "                datetimes += [datetime_formatted]\n",
    "            except ValueError:\n",
    "                pass # placeholder\n",
    "\n",
    "    return datetimes\n",
    "\n",
    "with open('C:/Users/anagomez/M3/GPS.dat', 'r') as f:\n",
    "    datetimes = get_datetimes(f)    "
   ]
  },
  {
   "cell_type": "code",
   "execution_count": 14,
   "id": "3b080865",
   "metadata": {},
   "outputs": [],
   "source": [
    "f = open('GPS.dat')"
   ]
  },
  {
   "cell_type": "code",
   "execution_count": 15,
   "id": "ae6e06ea",
   "metadata": {},
   "outputs": [],
   "source": [
    "from datetime import datetime"
   ]
  },
  {
   "cell_type": "code",
   "execution_count": 16,
   "id": "dbffaeae",
   "metadata": {},
   "outputs": [],
   "source": [
    "indata = f.readlines()"
   ]
  },
  {
   "cell_type": "code",
   "execution_count": 17,
   "id": "598893f6",
   "metadata": {},
   "outputs": [
    {
     "name": "stdout",
     "output_type": "stream",
     "text": [
      "ACTIVE LOG\n",
      "LEGOLAS\n",
      "MERIADOC\n",
      "SAMWISE\n",
      "STRIDER\n"
     ]
    }
   ],
   "source": [
    "outdata = []\n",
    "target_track_name = 'ACTIVE LOG'\n",
    "keep_data = ''\n",
    "for line in indata:\n",
    "    temp = line.split('\\t')\n",
    "    if len(temp) > 1:\n",
    "        if temp[0] == 'Track':\n",
    "            print(temp[1])\n",
    "            keep_data = temp[1]\n",
    "        \n",
    "        if temp[0] == 'Trackpoint':\n",
    "            if keep_data == target_track_name:\n",
    "                temp_datetime = datetime.strptime(temp[2], '%m/%d/%Y %H:%M:%S %p ')\n",
    "                outdata.append(temp_datetime)"
   ]
  },
  {
   "cell_type": "code",
   "execution_count": 18,
   "id": "cb4e9e46",
   "metadata": {},
   "outputs": [
    {
     "name": "stdout",
     "output_type": "stream",
     "text": [
      "These tests work! More in next cell.\n"
     ]
    }
   ],
   "source": [
    "\"\"\"(3 points) Test code for the previous function. This cell should NOT give any errors when it is run.\"\"\"\n",
    "\n",
    "# tests for Part A\n",
    "f = open('GPS.dat')\n",
    "f.seek(0)  # This sets the pointer back to the beginning of the file. This allows us to run this\n",
    "           # block of code many times without reopening the file each time.\n",
    "datetimes = get_datetimes(f)\n",
    "\n",
    "# Check results\n",
    "assert datetimes[0] == datetime(2006, 5, 20, 13, 34, 55)  # check first entry\n",
    "assert datetimes[100] == datetime(2006, 5, 20, 13, 59, 57)\n",
    "assert datetimes[200] == datetime(2006, 5, 20, 14, 24, 58)\n",
    "assert datetimes[-50] == datetime(2006, 5, 20, 15, 19, 46)\n",
    "print('These tests work! More in next cell.')"
   ]
  },
  {
   "cell_type": "code",
   "execution_count": 19,
   "id": "2d2c9237",
   "metadata": {},
   "outputs": [
    {
     "name": "stdout",
     "output_type": "stream",
     "text": [
      "success!\n"
     ]
    }
   ],
   "source": [
    "\"\"\"(1 point) Test code for the previous function. This cell should NOT give any errors when it is run.\"\"\"\n",
    "\n",
    "# tests for Part A\n",
    "f = open('GPS.dat')\n",
    "f.seek(0)  # This sets the pointer back to the beginning of the file. This allows us to run this\n",
    "           # block of code many times without reopening the file each time.\n",
    "datetimes = get_datetimes(f)\n",
    "\n",
    "# Check results\n",
    "assert datetimes[-1] == datetime(2006, 5, 20, 15, 31, 48)  # check last entry\n",
    "assert len(datetimes) == 469\n",
    "print('success!')"
   ]
  },
  {
   "cell_type": "markdown",
   "id": "1412392c",
   "metadata": {},
   "source": [
    "### 6. Read and process numbers from a text file\n",
    "\n",
    "(4 points) Read in the locations (lon/lat) and speed for all data points for the drifter \"ACTIVE LOG\". Create a dictionary for the drifter data that has keys `lat`, `lon`, and `speed`, which contain the latitude and longitude in decimal degrees and speed in mph, respectively.  That is, for a dictionary named `gps`, `gps['speed']` will return a list containing a timeseries of the speeds of ACTIVE LOG."
   ]
  },
  {
   "cell_type": "code",
   "execution_count": 31,
   "id": "4774c54b",
   "metadata": {
    "scrolled": true
   },
   "outputs": [],
   "source": [
    "# https://realpython.com/python-lists-tuples/#lists-and-tuples-can-be-nested \n",
    "# https://www.geeksforgeeks.org/python-string-split/\n",
    "# https://www.geeksforgeeks.org/how-to-convert-float-to-int-in-python/\n",
    "# https://www.w3schools.com/python/ref_string_replace.asp\n",
    "# part b\n",
    "\n",
    "def get_gps(f):\n",
    "    \"\"\"Read in the locations and speed at all data points for the drifter ACTIVE LOG in file object, f.\n",
    "    \n",
    "    Parameters\n",
    "    ----------\n",
    "    f : file object\n",
    "        open file object to be read from  \n",
    "        \n",
    "    Returns\n",
    "    -------\n",
    "    A dictionary which contains keys `latitude`, `longitude`, and `speed` for drifter ACTIVE LOG\n",
    "    \"\"\"\n",
    "    ### BEGIN SOLUTION\n",
    "    gps = {'lat': [], 'lon': [], 'speed':[]}\n",
    "    \n",
    "    for line in f:\n",
    "        if 'ACTIVE LOG' in line:\n",
    "            break\n",
    "            \n",
    "    for line in f:\n",
    "        if 'LEGOLAS' in line:\n",
    "            break       # breaks when it reaches the next track\n",
    "            \n",
    "        if 'Trackpoint' in line:\n",
    "            column_name = line.split('\\t')     # splits up into individual columns using tabs since it's tab-delimited\n",
    "            \n",
    "            # lat and lon\n",
    "            position = column_name[1].split()        # indexes the column in the 2nd spot (Position)\n",
    "                # gets rid of the N/S keeping only the degrees and converts the decimal minutes to decimal degrees\n",
    "                # also converts the degrees into integers and the decimal degrees into a float value\n",
    "            lat = int(position[0][1:]) + (float(position[1]) / 60)\n",
    "            lon = int(position[2][1:]) + (float(position[3]) / 60)\n",
    "            gps['lat'] += [lat]\n",
    "            gps['lon'] += [lon]\n",
    "\n",
    "            # speed\n",
    "            if len(column_name) > 7:\n",
    "                leg_speed = column_name[7]\n",
    "                if ' mph' in leg_speed:\n",
    "                    speed = float(leg_speed.replace(' mph', '')) # removes mph and the space, also converts into a float\n",
    "                    gps['speed'] += [float(speed)]\n",
    "                else:\n",
    "                     gps['speed'] += [''] # if there's no speed then leaves as blank\n",
    "                        \n",
    "    return gps\n",
    "    \n",
    "with open('C:/Users/anagomez/M3/GPS.dat', 'r') as f:\n",
    "    gps = get_gps(f)"
   ]
  },
  {
   "cell_type": "code",
   "execution_count": 32,
   "id": "b70ff05a",
   "metadata": {
    "scrolled": true
   },
   "outputs": [
    {
     "name": "stdout",
     "output_type": "stream",
     "text": [
      "success!\n"
     ]
    }
   ],
   "source": [
    "\"\"\"(4 points) Test code for the previous function. This cell should NOT give any errors when it is run.\"\"\"\n",
    "# tests for Part B\n",
    "f = open('GPS.dat')\n",
    "f.seek(0)  # This sets the pointer back to the beginning of the file. This allows us to run this\n",
    "           # block of code many times without reopening the file each time.\n",
    "\n",
    "gps = get_gps(f)\n",
    "    \n",
    "assert(len(gps['lon']) == 469)  # test for correct number of data points\n",
    "import numpy as np  # using numpy for this test\n",
    "assert np.allclose(gps['lat'][5], 42.8304)  # test a latitude value\n",
    "assert np.allclose(gps['speed'][-5], 4.7)  # test a speed value\n",
    "assert np.allclose(gps['lon'][78], 70.77311666666667)  # test a longitude value\n",
    "\n",
    "print('success!')"
   ]
  },
  {
   "cell_type": "code",
   "execution_count": 33,
   "id": "067240e0",
   "metadata": {},
   "outputs": [],
   "source": [
    "output_dict = {'lat':[], 'lon':[], 'speed':[]} #initialize empty dictionary \n",
    "in_location_string = 'N42 49.822 W70 45.413' #here's the dtring we're going to parse; yours will likely from a loop\n",
    "location = in_location_string.split(' ') #split the string on spaces\n",
    "latitude = location[:2] #capture the first two elements from location (remember the default start is 0 so what I typed is equivalent to location[0:2])\n",
    "longitude = location[2:] #capture the last two elements from location (remember the default end is the last element so what I typed is equivalent to location[2:4])\n",
    "\n",
    "#need to remove the 'N' and 'W' from the degree strings\n",
    "new_latitude = int(latitude[0][1:])  # here I'm asking for the first element of latitude (which equals 'N42') and then skipping the first letter (strings can be indexed too!); then converting it to an integer\n",
    "new_latitude += float(latitude[1]) / 60 # here I'm converting the second element of latitude to a floating point type, then dividing it by 60 to obtain the decimal degrees and adding it to our integer degree\n",
    "\n",
    "new_longitude = int(longitude[0][1:])\n",
    "new_longitude += float(longitude[1]) / 60\n",
    "\n",
    "output_dict['lat'].append(new_latitude)\n",
    "output_dict['lon'].append(new_longitude)\n"
   ]
  },
  {
   "cell_type": "code",
   "execution_count": 34,
   "id": "e570856a",
   "metadata": {},
   "outputs": [
    {
     "data": {
      "text/plain": [
       "{'lat': [42.83036666666667], 'lon': [70.75688333333333], 'speed': []}"
      ]
     },
     "execution_count": 34,
     "metadata": {},
     "output_type": "execute_result"
    }
   ],
   "source": [
    "output_dict"
   ]
  },
  {
   "cell_type": "markdown",
   "id": "160c6ef7-af1a-495b-bb37-da5571cd416d",
   "metadata": {},
   "source": [
    "# References #\n",
    "* https://www.w3schools.com/python/python_file_write.asp\n",
    "* M3 Coding With Python\n",
    "* https://www.geeksforgeeks.org/formatted-string-literals-f-strings-python/\n",
    "* https://docs.python.org/3/tutorial/inputoutput.html#methods-of-file-objects\n",
    "* ChatGPT Prompt: \"what function can i use to still write the empty lines but not number them? can i use a for loop? i want to only number lines that have text\"\n",
    "* https://docs.python.org/3/reference/simple_stmts.html#break\n",
    "* https://www.geeksforgeeks.org/python-string-split/\n",
    "* https://www.geeksforgeeks.org/python-escape-characters/\n",
    "* https://docs.python.org/3/library/datetime.html#strftime-and-strptime-behavior\n",
    "* https://www.geeksforgeeks.org/how-to-fix-valueerror-exceptions-in-python/\n",
    "* https://pythonbasics.org/try-except/\n",
    "* https://docs.python.org/3/tutorial/controlflow.html\n",
    "* https://realpython.com/python-lists-tuples/#lists-and-tuples-can-be-nested\n",
    "* https://www.geeksforgeeks.org/how-to-convert-float-to-int-in-python/\n",
    "* https://www.w3schools.com/python/ref_string_replace.asp"
   ]
  },
  {
   "cell_type": "code",
   "execution_count": null,
   "id": "90ba3bb7-3bf4-4d00-bfa4-2583606b81e5",
   "metadata": {},
   "outputs": [],
   "source": []
  }
 ],
 "metadata": {
  "kernelspec": {
   "display_name": "Python 3 (ipykernel)",
   "language": "python",
   "name": "python3"
  },
  "language_info": {
   "codemirror_mode": {
    "name": "ipython",
    "version": 3
   },
   "file_extension": ".py",
   "mimetype": "text/x-python",
   "name": "python",
   "nbconvert_exporter": "python",
   "pygments_lexer": "ipython3",
   "version": "3.12.3"
  }
 },
 "nbformat": 4,
 "nbformat_minor": 5
}
